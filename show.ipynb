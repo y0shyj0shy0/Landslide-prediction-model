{
 "cells": [
  {
   "cell_type": "code",
   "execution_count": 9,
   "metadata": {},
   "outputs": [
    {
     "name": "stderr",
     "output_type": "stream",
     "text": [
      "/tmp/ipykernel_11231/1274186724.py:8: DtypeWarning: Columns (35) have mixed types. Specify dtype option on import or set low_memory=False.\n",
      "  data = pd.read_csv(file_path)\n"
     ]
    }
   ],
   "source": [
    "import pandas as pd\n",
    "\n",
    "# CSV 파일 경로 설정\n",
    "file_path = '/home/kng/kng/MOUNTAIN2/asos_soil_merged.csv'\n",
    "\n",
    "\n",
    "# CSV 파일 읽기\n",
    "data = pd.read_csv(file_path)\n",
    "\n"
   ]
  },
  {
   "cell_type": "code",
   "execution_count": 7,
   "metadata": {},
   "outputs": [
    {
     "name": "stdout",
     "output_type": "stream",
     "text": [
      "        avg_temp  lowest_temp  highest_temp  rainfalling_hr_asos  \\\n",
      "0           14.7         12.4          17.6                  0.0   \n",
      "1           14.7         12.4          17.6                  0.0   \n",
      "2           14.7         12.4          17.6                  0.0   \n",
      "3           14.7         12.4          17.6                  0.0   \n",
      "4           14.7         12.4          17.6                  0.0   \n",
      "...          ...          ...           ...                  ...   \n",
      "600750      19.2         15.1          24.8                  0.0   \n",
      "600751      19.2         15.1          24.8                  0.0   \n",
      "600752      19.2         15.1          24.8                  0.0   \n",
      "600753      19.2         15.1          24.8                  0.0   \n",
      "600754      19.2         15.1          24.8                  0.0   \n",
      "\n",
      "        1hr_rainfall_mm_asos  daily_rainfall_asos  max_windspeed_asos  \\\n",
      "0                        0.0                  0.0                 3.5   \n",
      "1                        0.0                  0.0                 3.5   \n",
      "2                        0.0                  0.0                 3.5   \n",
      "3                        0.0                  0.0                 3.5   \n",
      "4                        0.0                  0.0                 3.5   \n",
      "...                      ...                  ...                 ...   \n",
      "600750                   3.6                  5.7                 3.7   \n",
      "600751                   3.6                  5.7                 3.7   \n",
      "600752                   3.6                  5.7                 3.7   \n",
      "600753                   3.6                  5.7                 3.7   \n",
      "600754                   3.6                  5.7                 3.7   \n",
      "\n",
      "        avg_windspeed_asos  avg_dewpoint_temp  min_rhum_per  ...  TRHGH_AVRG  \\\n",
      "0                      1.7               12.8          78.0  ...   16.799999   \n",
      "1                      1.7               12.8          78.0  ...   15.300000   \n",
      "2                      1.7               12.8          78.0  ...   14.000000   \n",
      "3                      1.7               12.8          78.0  ...   17.100000   \n",
      "4                      1.7               12.8          78.0  ...    0.000000   \n",
      "...                    ...                ...           ...  ...         ...   \n",
      "600750                 1.5               15.3          50.0  ...   12.400000   \n",
      "600751                 1.5               15.3          50.0  ...   14.000000   \n",
      "600752                 1.5               15.3          50.0  ...    0.000000   \n",
      "600753                 1.5               15.3          50.0  ...   13.700000   \n",
      "600754                 1.5               15.3          50.0  ...    0.000000   \n",
      "\n",
      "        TOT_FRAG  AVRG_FRAG  LARCH_STIN  KRPN_STIND  GNGN_LCLT  CNDST_PINE  \\\n",
      "0          233.0       17.0        14.0        14.0       12.0         0.0   \n",
      "1          191.0       15.0        13.0        14.0        9.0         9.0   \n",
      "2          199.0       14.0        12.0        12.0        7.0         7.0   \n",
      "3          241.0       17.0        13.0        15.0       10.0         9.0   \n",
      "4            0.0        0.0        13.0        14.0       10.0        10.0   \n",
      "...          ...        ...         ...         ...        ...         ...   \n",
      "600750     151.0       12.0        11.0        10.0        0.0         9.0   \n",
      "600751     149.0       14.0        12.0        11.0        0.0        10.0   \n",
      "600752       0.0        0.0        11.0        11.0        0.0         9.0   \n",
      "600753     135.0       14.0        11.0        12.0        0.0        11.0   \n",
      "600754       0.0        0.0        11.0        11.0        0.0         9.0   \n",
      "\n",
      "        ACTSM_STIN  JBLPN_STIN  is_landslided  \n",
      "0             17.0        11.0            0.0  \n",
      "1             16.0        11.0            0.0  \n",
      "2             14.0         9.0            0.0  \n",
      "3             17.0        12.0            0.0  \n",
      "4             17.0        12.0            0.0  \n",
      "...            ...         ...            ...  \n",
      "600750        15.0        10.0            0.0  \n",
      "600751        16.0        11.0            0.0  \n",
      "600752        16.0         0.0            0.0  \n",
      "600753        16.0         0.0            0.0  \n",
      "600754        16.0         0.0            0.0  \n",
      "\n",
      "[600755 rows x 91 columns]\n"
     ]
    }
   ],
   "source": [
    "# 데이터 내용 출력\n",
    "print(data)\n"
   ]
  }
 ],
 "metadata": {
  "kernelspec": {
   "display_name": "base",
   "language": "python",
   "name": "python3"
  },
  "language_info": {
   "codemirror_mode": {
    "name": "ipython",
    "version": 3
   },
   "file_extension": ".py",
   "mimetype": "text/x-python",
   "name": "python",
   "nbconvert_exporter": "python",
   "pygments_lexer": "ipython3",
   "version": "3.11.7"
  }
 },
 "nbformat": 4,
 "nbformat_minor": 2
}
