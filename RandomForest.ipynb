{
 "cells": [
  {
   "cell_type": "markdown",
   "metadata": {},
   "source": [
    "### 스모트 한거\n",
    "# 훈련용 데이터 로드\n",
    "train_data = pd.read_parquet('/home/kng/kng/MOUNTAIN2/trainDatas/SMOTE/final/SMOTED_FINAL_80.parquet')\n",
    "\n",
    "# 테스트용 데이터 로드\n",
    "test_data = pd.read_parquet('/home/kng/kng/MOUNTAIN2/testDatas/SMOTE/final/SMOTED_FINAL_20.parquet')\n",
    "\n",
    "### 스모트 안한거\n",
    "# 훈련용 데이터 로드\n",
    "train_data = pd.read_parquet('/home/kng/kng/MOUNTAIN2/trainDatas/final/FINAL_80.parquet')\n",
    "\n",
    "# 테스트용 데이터 로드\n",
    "test_data = pd.read_parquet('/home/kng/kng/MOUNTAIN2/testDatas/final/FINAL_20.parquet')"
   ]
  },
  {
   "cell_type": "code",
   "execution_count": 133,
   "metadata": {},
   "outputs": [],
   "source": [
    "import numpy as np\n",
    "import pandas as pd\n",
    "from sklearn.ensemble import RandomForestClassifier\n",
    "from sklearn.model_selection import train_test_split\n",
    "from sklearn.metrics import accuracy_score\n",
    "\n",
    "# 훈련용 데이터 로드\n",
    "train_data = pd.read_parquet('/home/kng/kng/MOUNTAIN2/trainDatas/SMOTE/final/SMOTED_FINAL_80.parquet')\n",
    "\n",
    "# 테스트용 데이터 로드\n",
    "# test_data = pd.read_parquet('/home/kng/kng/MOUNTAIN2/testDatas/SMOTE/final/SMOTED_FINAL_20.parquet')\n",
    "test_data = pd.read_parquet('/home/kng/kng/MOUNTAIN2/testDatas/SMOTE/final/balanced_data.parquet')"
   ]
  },
  {
   "cell_type": "code",
   "execution_count": 134,
   "metadata": {},
   "outputs": [
    {
     "data": {
      "text/html": [
       "<div>\n",
       "<style scoped>\n",
       "    .dataframe tbody tr th:only-of-type {\n",
       "        vertical-align: middle;\n",
       "    }\n",
       "\n",
       "    .dataframe tbody tr th {\n",
       "        vertical-align: top;\n",
       "    }\n",
       "\n",
       "    .dataframe thead th {\n",
       "        text-align: right;\n",
       "    }\n",
       "</style>\n",
       "<table border=\"1\" class=\"dataframe\">\n",
       "  <thead>\n",
       "    <tr style=\"text-align: right;\">\n",
       "      <th></th>\n",
       "      <th>avg_temp</th>\n",
       "      <th>lowest_temp</th>\n",
       "      <th>highest_temp</th>\n",
       "      <th>rainfalling_hr_asos</th>\n",
       "      <th>1hr_rainfall_mm_asos</th>\n",
       "      <th>daily_rainfall_asos</th>\n",
       "      <th>max_windspeed_asos</th>\n",
       "      <th>avg_windspeed_asos</th>\n",
       "      <th>avg_dewpoint_temp</th>\n",
       "      <th>min_rhum_per</th>\n",
       "      <th>...</th>\n",
       "      <th>SIBFLR_MDD_1</th>\n",
       "      <th>SIAFLR_LAR_0</th>\n",
       "      <th>SIAFLR_LAR_1</th>\n",
       "      <th>SIBFLR_LAR_0</th>\n",
       "      <th>SIBFLR_LAR_1</th>\n",
       "      <th>KOFTR_CD_0</th>\n",
       "      <th>KOFTR_CD_1</th>\n",
       "      <th>KOFTR_CD_2</th>\n",
       "      <th>KOFTR_CD_3</th>\n",
       "      <th>is_landslided</th>\n",
       "    </tr>\n",
       "  </thead>\n",
       "  <tbody>\n",
       "    <tr>\n",
       "      <th>0</th>\n",
       "      <td>0.469649</td>\n",
       "      <td>0.443686</td>\n",
       "      <td>0.465608</td>\n",
       "      <td>0.0</td>\n",
       "      <td>0.000000</td>\n",
       "      <td>0.000000</td>\n",
       "      <td>0.083135</td>\n",
       "      <td>0.104938</td>\n",
       "      <td>0.557692</td>\n",
       "      <td>0.78</td>\n",
       "      <td>...</td>\n",
       "      <td>1</td>\n",
       "      <td>0</td>\n",
       "      <td>1</td>\n",
       "      <td>0</td>\n",
       "      <td>1</td>\n",
       "      <td>0</td>\n",
       "      <td>0</td>\n",
       "      <td>0</td>\n",
       "      <td>1</td>\n",
       "      <td>0.0</td>\n",
       "    </tr>\n",
       "    <tr>\n",
       "      <th>1</th>\n",
       "      <td>0.469649</td>\n",
       "      <td>0.443686</td>\n",
       "      <td>0.465608</td>\n",
       "      <td>0.0</td>\n",
       "      <td>0.000000</td>\n",
       "      <td>0.000000</td>\n",
       "      <td>0.083135</td>\n",
       "      <td>0.104938</td>\n",
       "      <td>0.557692</td>\n",
       "      <td>0.78</td>\n",
       "      <td>...</td>\n",
       "      <td>1</td>\n",
       "      <td>0</td>\n",
       "      <td>1</td>\n",
       "      <td>0</td>\n",
       "      <td>1</td>\n",
       "      <td>0</td>\n",
       "      <td>0</td>\n",
       "      <td>1</td>\n",
       "      <td>0</td>\n",
       "      <td>0.0</td>\n",
       "    </tr>\n",
       "    <tr>\n",
       "      <th>2</th>\n",
       "      <td>0.469649</td>\n",
       "      <td>0.443686</td>\n",
       "      <td>0.465608</td>\n",
       "      <td>0.0</td>\n",
       "      <td>0.000000</td>\n",
       "      <td>0.000000</td>\n",
       "      <td>0.083135</td>\n",
       "      <td>0.104938</td>\n",
       "      <td>0.557692</td>\n",
       "      <td>0.78</td>\n",
       "      <td>...</td>\n",
       "      <td>1</td>\n",
       "      <td>0</td>\n",
       "      <td>1</td>\n",
       "      <td>0</td>\n",
       "      <td>1</td>\n",
       "      <td>0</td>\n",
       "      <td>0</td>\n",
       "      <td>1</td>\n",
       "      <td>0</td>\n",
       "      <td>0.0</td>\n",
       "    </tr>\n",
       "    <tr>\n",
       "      <th>3</th>\n",
       "      <td>0.469649</td>\n",
       "      <td>0.443686</td>\n",
       "      <td>0.465608</td>\n",
       "      <td>0.0</td>\n",
       "      <td>0.000000</td>\n",
       "      <td>0.000000</td>\n",
       "      <td>0.083135</td>\n",
       "      <td>0.104938</td>\n",
       "      <td>0.557692</td>\n",
       "      <td>0.78</td>\n",
       "      <td>...</td>\n",
       "      <td>1</td>\n",
       "      <td>0</td>\n",
       "      <td>1</td>\n",
       "      <td>0</td>\n",
       "      <td>1</td>\n",
       "      <td>0</td>\n",
       "      <td>0</td>\n",
       "      <td>0</td>\n",
       "      <td>1</td>\n",
       "      <td>0.0</td>\n",
       "    </tr>\n",
       "    <tr>\n",
       "      <th>4</th>\n",
       "      <td>0.469649</td>\n",
       "      <td>0.443686</td>\n",
       "      <td>0.465608</td>\n",
       "      <td>0.0</td>\n",
       "      <td>0.000000</td>\n",
       "      <td>0.000000</td>\n",
       "      <td>0.083135</td>\n",
       "      <td>0.104938</td>\n",
       "      <td>0.557692</td>\n",
       "      <td>0.78</td>\n",
       "      <td>...</td>\n",
       "      <td>1</td>\n",
       "      <td>0</td>\n",
       "      <td>1</td>\n",
       "      <td>0</td>\n",
       "      <td>1</td>\n",
       "      <td>0</td>\n",
       "      <td>0</td>\n",
       "      <td>1</td>\n",
       "      <td>1</td>\n",
       "      <td>0.0</td>\n",
       "    </tr>\n",
       "    <tr>\n",
       "      <th>...</th>\n",
       "      <td>...</td>\n",
       "      <td>...</td>\n",
       "      <td>...</td>\n",
       "      <td>...</td>\n",
       "      <td>...</td>\n",
       "      <td>...</td>\n",
       "      <td>...</td>\n",
       "      <td>...</td>\n",
       "      <td>...</td>\n",
       "      <td>...</td>\n",
       "      <td>...</td>\n",
       "      <td>...</td>\n",
       "      <td>...</td>\n",
       "      <td>...</td>\n",
       "      <td>...</td>\n",
       "      <td>...</td>\n",
       "      <td>...</td>\n",
       "      <td>...</td>\n",
       "      <td>...</td>\n",
       "      <td>...</td>\n",
       "      <td>...</td>\n",
       "    </tr>\n",
       "    <tr>\n",
       "      <th>912327</th>\n",
       "      <td>0.840256</td>\n",
       "      <td>0.764505</td>\n",
       "      <td>0.873016</td>\n",
       "      <td>0.0</td>\n",
       "      <td>0.006502</td>\n",
       "      <td>0.001682</td>\n",
       "      <td>0.102138</td>\n",
       "      <td>0.055556</td>\n",
       "      <td>0.865385</td>\n",
       "      <td>0.48</td>\n",
       "      <td>...</td>\n",
       "      <td>0</td>\n",
       "      <td>0</td>\n",
       "      <td>1</td>\n",
       "      <td>0</td>\n",
       "      <td>1</td>\n",
       "      <td>0</td>\n",
       "      <td>1</td>\n",
       "      <td>0</td>\n",
       "      <td>0</td>\n",
       "      <td>1.0</td>\n",
       "    </tr>\n",
       "    <tr>\n",
       "      <th>912328</th>\n",
       "      <td>0.728435</td>\n",
       "      <td>0.744027</td>\n",
       "      <td>0.637566</td>\n",
       "      <td>0.0</td>\n",
       "      <td>0.170351</td>\n",
       "      <td>0.081736</td>\n",
       "      <td>0.038005</td>\n",
       "      <td>0.018519</td>\n",
       "      <td>0.858974</td>\n",
       "      <td>0.93</td>\n",
       "      <td>...</td>\n",
       "      <td>0</td>\n",
       "      <td>0</td>\n",
       "      <td>1</td>\n",
       "      <td>0</td>\n",
       "      <td>1</td>\n",
       "      <td>0</td>\n",
       "      <td>0</td>\n",
       "      <td>1</td>\n",
       "      <td>1</td>\n",
       "      <td>1.0</td>\n",
       "    </tr>\n",
       "    <tr>\n",
       "      <th>912329</th>\n",
       "      <td>0.734824</td>\n",
       "      <td>0.703072</td>\n",
       "      <td>0.708995</td>\n",
       "      <td>0.0</td>\n",
       "      <td>0.006502</td>\n",
       "      <td>0.003027</td>\n",
       "      <td>0.045131</td>\n",
       "      <td>0.024691</td>\n",
       "      <td>0.868590</td>\n",
       "      <td>0.86</td>\n",
       "      <td>...</td>\n",
       "      <td>1</td>\n",
       "      <td>1</td>\n",
       "      <td>0</td>\n",
       "      <td>0</td>\n",
       "      <td>1</td>\n",
       "      <td>0</td>\n",
       "      <td>1</td>\n",
       "      <td>1</td>\n",
       "      <td>1</td>\n",
       "      <td>1.0</td>\n",
       "    </tr>\n",
       "    <tr>\n",
       "      <th>912330</th>\n",
       "      <td>0.696486</td>\n",
       "      <td>0.696246</td>\n",
       "      <td>0.634921</td>\n",
       "      <td>0.0</td>\n",
       "      <td>0.405722</td>\n",
       "      <td>0.572149</td>\n",
       "      <td>0.064133</td>\n",
       "      <td>0.055556</td>\n",
       "      <td>0.830128</td>\n",
       "      <td>0.91</td>\n",
       "      <td>...</td>\n",
       "      <td>1</td>\n",
       "      <td>0</td>\n",
       "      <td>1</td>\n",
       "      <td>0</td>\n",
       "      <td>1</td>\n",
       "      <td>0</td>\n",
       "      <td>0</td>\n",
       "      <td>0</td>\n",
       "      <td>1</td>\n",
       "      <td>1.0</td>\n",
       "    </tr>\n",
       "    <tr>\n",
       "      <th>912331</th>\n",
       "      <td>0.747604</td>\n",
       "      <td>0.788396</td>\n",
       "      <td>0.640212</td>\n",
       "      <td>0.0</td>\n",
       "      <td>0.110533</td>\n",
       "      <td>0.145980</td>\n",
       "      <td>0.054632</td>\n",
       "      <td>0.043210</td>\n",
       "      <td>0.887821</td>\n",
       "      <td>0.94</td>\n",
       "      <td>...</td>\n",
       "      <td>0</td>\n",
       "      <td>0</td>\n",
       "      <td>1</td>\n",
       "      <td>0</td>\n",
       "      <td>1</td>\n",
       "      <td>0</td>\n",
       "      <td>1</td>\n",
       "      <td>1</td>\n",
       "      <td>1</td>\n",
       "      <td>1.0</td>\n",
       "    </tr>\n",
       "  </tbody>\n",
       "</table>\n",
       "<p>912332 rows × 180 columns</p>\n",
       "</div>"
      ],
      "text/plain": [
       "        avg_temp  lowest_temp  highest_temp  rainfalling_hr_asos  \\\n",
       "0       0.469649     0.443686      0.465608                  0.0   \n",
       "1       0.469649     0.443686      0.465608                  0.0   \n",
       "2       0.469649     0.443686      0.465608                  0.0   \n",
       "3       0.469649     0.443686      0.465608                  0.0   \n",
       "4       0.469649     0.443686      0.465608                  0.0   \n",
       "...          ...          ...           ...                  ...   \n",
       "912327  0.840256     0.764505      0.873016                  0.0   \n",
       "912328  0.728435     0.744027      0.637566                  0.0   \n",
       "912329  0.734824     0.703072      0.708995                  0.0   \n",
       "912330  0.696486     0.696246      0.634921                  0.0   \n",
       "912331  0.747604     0.788396      0.640212                  0.0   \n",
       "\n",
       "        1hr_rainfall_mm_asos  daily_rainfall_asos  max_windspeed_asos  \\\n",
       "0                   0.000000             0.000000            0.083135   \n",
       "1                   0.000000             0.000000            0.083135   \n",
       "2                   0.000000             0.000000            0.083135   \n",
       "3                   0.000000             0.000000            0.083135   \n",
       "4                   0.000000             0.000000            0.083135   \n",
       "...                      ...                  ...                 ...   \n",
       "912327              0.006502             0.001682            0.102138   \n",
       "912328              0.170351             0.081736            0.038005   \n",
       "912329              0.006502             0.003027            0.045131   \n",
       "912330              0.405722             0.572149            0.064133   \n",
       "912331              0.110533             0.145980            0.054632   \n",
       "\n",
       "        avg_windspeed_asos  avg_dewpoint_temp  min_rhum_per  ...  \\\n",
       "0                 0.104938           0.557692          0.78  ...   \n",
       "1                 0.104938           0.557692          0.78  ...   \n",
       "2                 0.104938           0.557692          0.78  ...   \n",
       "3                 0.104938           0.557692          0.78  ...   \n",
       "4                 0.104938           0.557692          0.78  ...   \n",
       "...                    ...                ...           ...  ...   \n",
       "912327            0.055556           0.865385          0.48  ...   \n",
       "912328            0.018519           0.858974          0.93  ...   \n",
       "912329            0.024691           0.868590          0.86  ...   \n",
       "912330            0.055556           0.830128          0.91  ...   \n",
       "912331            0.043210           0.887821          0.94  ...   \n",
       "\n",
       "        SIBFLR_MDD_1  SIAFLR_LAR_0  SIAFLR_LAR_1  SIBFLR_LAR_0  SIBFLR_LAR_1  \\\n",
       "0                  1             0             1             0             1   \n",
       "1                  1             0             1             0             1   \n",
       "2                  1             0             1             0             1   \n",
       "3                  1             0             1             0             1   \n",
       "4                  1             0             1             0             1   \n",
       "...              ...           ...           ...           ...           ...   \n",
       "912327             0             0             1             0             1   \n",
       "912328             0             0             1             0             1   \n",
       "912329             1             1             0             0             1   \n",
       "912330             1             0             1             0             1   \n",
       "912331             0             0             1             0             1   \n",
       "\n",
       "        KOFTR_CD_0  KOFTR_CD_1  KOFTR_CD_2  KOFTR_CD_3  is_landslided  \n",
       "0                0           0           0           1            0.0  \n",
       "1                0           0           1           0            0.0  \n",
       "2                0           0           1           0            0.0  \n",
       "3                0           0           0           1            0.0  \n",
       "4                0           0           1           1            0.0  \n",
       "...            ...         ...         ...         ...            ...  \n",
       "912327           0           1           0           0            1.0  \n",
       "912328           0           0           1           1            1.0  \n",
       "912329           0           1           1           1            1.0  \n",
       "912330           0           0           0           1            1.0  \n",
       "912331           0           1           1           1            1.0  \n",
       "\n",
       "[912332 rows x 180 columns]"
      ]
     },
     "execution_count": 134,
     "metadata": {},
     "output_type": "execute_result"
    }
   ],
   "source": [
    "train_data"
   ]
  },
  {
   "cell_type": "code",
   "execution_count": 155,
   "metadata": {},
   "outputs": [
    {
     "name": "stdout",
     "output_type": "stream",
     "text": [
      "[Parallel(n_jobs=1)]: Using backend SequentialBackend with 1 concurrent workers.\n",
      "building tree 1 of 1000\n",
      "[Parallel(n_jobs=1)]: Done   1 out of   1 | elapsed:    0.4s remaining:    0.0s\n",
      "building tree 2 of 1000\n",
      "[Parallel(n_jobs=1)]: Done   2 out of   2 | elapsed:    0.9s remaining:    0.0s\n",
      "building tree 3 of 1000\n",
      "[Parallel(n_jobs=1)]: Done   3 out of   3 | elapsed:    1.3s remaining:    0.0s\n",
      "building tree 4 of 1000\n",
      "[Parallel(n_jobs=1)]: Done   4 out of   4 | elapsed:    1.8s remaining:    0.0s\n",
      "building tree 5 of 1000\n",
      "[Parallel(n_jobs=1)]: Done   5 out of   5 | elapsed:    2.2s remaining:    0.0s\n",
      "building tree 6 of 1000\n",
      "[Parallel(n_jobs=1)]: Done   6 out of   6 | elapsed:    2.6s remaining:    0.0s\n",
      "building tree 7 of 1000\n",
      "[Parallel(n_jobs=1)]: Done   7 out of   7 | elapsed:    3.1s remaining:    0.0s\n",
      "building tree 8 of 1000\n",
      "[Parallel(n_jobs=1)]: Done   8 out of   8 | elapsed:    3.5s remaining:    0.0s\n",
      "building tree 9 of 1000\n",
      "[Parallel(n_jobs=1)]: Done   9 out of   9 | elapsed:    4.0s remaining:    0.0s\n",
      "building tree 10 of 1000\n",
      "[Parallel(n_jobs=1)]: Done  10 out of  10 | elapsed:    4.4s remaining:    0.0s\n",
      "building tree 11 of 1000\n",
      "[Parallel(n_jobs=1)]: Done  11 out of  11 | elapsed:    4.9s remaining:    0.0s\n",
      "building tree 12 of 1000\n",
      "[Parallel(n_jobs=1)]: Done  12 out of  12 | elapsed:    5.2s remaining:    0.0s\n",
      "building tree 13 of 1000\n",
      "[Parallel(n_jobs=1)]: Done  13 out of  13 | elapsed:    5.7s remaining:    0.0s\n",
      "building tree 14 of 1000\n",
      "[Parallel(n_jobs=1)]: Done  14 out of  14 | elapsed:    6.1s remaining:    0.0s\n",
      "building tree 15 of 1000\n",
      "[Parallel(n_jobs=1)]: Done  15 out of  15 | elapsed:    6.5s remaining:    0.0s\n",
      "building tree 16 of 1000\n",
      "[Parallel(n_jobs=1)]: Done  16 out of  16 | elapsed:    6.9s remaining:    0.0s\n",
      "building tree 17 of 1000\n",
      "[Parallel(n_jobs=1)]: Done  17 out of  17 | elapsed:    7.4s remaining:    0.0s\n",
      "building tree 18 of 1000\n",
      "[Parallel(n_jobs=1)]: Done  18 out of  18 | elapsed:    7.8s remaining:    0.0s\n",
      "building tree 19 of 1000\n",
      "[Parallel(n_jobs=1)]: Done  19 out of  19 | elapsed:    8.2s remaining:    0.0s\n",
      "building tree 20 of 1000\n"
     ]
    }
   ],
   "source": [
    "# 훈련용 데이터에서 입력 변수(X)와 타겟 변수(y)를 나누기\n",
    "X_train = train_data.drop(columns=['is_landslided'])\n",
    "y_train = train_data['is_landslided']\n",
    "\n",
    "# 랜덤 포레스트 모델 생성 및 훈련\n",
    "rf_clf = RandomForestClassifier(n_estimators=1000, min_samples_leaf=16384, random_state=42,verbose=100)\n",
    "rf_clf.fit(X_train, y_train)"
   ]
  },
  {
   "cell_type": "code",
   "execution_count": null,
   "metadata": {},
   "outputs": [],
   "source": [
    "X_test = test_data.drop(columns=['is_landslided'])\n",
    "y_test = test_data['is_landslided']"
   ]
  },
  {
   "cell_type": "code",
   "execution_count": null,
   "metadata": {},
   "outputs": [
    {
     "name": "stdout",
     "output_type": "stream",
     "text": [
      "[Parallel(n_jobs=1)]: Using backend SequentialBackend with 1 concurrent workers.\n",
      "[Parallel(n_jobs=1)]: Done   1 out of   1 | elapsed:    0.0s remaining:    0.0s\n",
      "[Parallel(n_jobs=1)]: Done   2 out of   2 | elapsed:    0.0s remaining:    0.0s\n",
      "[Parallel(n_jobs=1)]: Done   3 out of   3 | elapsed:    0.0s remaining:    0.0s\n",
      "[Parallel(n_jobs=1)]: Done   4 out of   4 | elapsed:    0.0s remaining:    0.0s\n",
      "[Parallel(n_jobs=1)]: Done   5 out of   5 | elapsed:    0.0s remaining:    0.0s\n",
      "[Parallel(n_jobs=1)]: Done   6 out of   6 | elapsed:    0.0s remaining:    0.0s\n",
      "[Parallel(n_jobs=1)]: Done   7 out of   7 | elapsed:    0.0s remaining:    0.0s\n",
      "[Parallel(n_jobs=1)]: Done   8 out of   8 | elapsed:    0.0s remaining:    0.0s\n",
      "[Parallel(n_jobs=1)]: Done   9 out of   9 | elapsed:    0.0s remaining:    0.0s\n",
      "[Parallel(n_jobs=1)]: Done  10 out of  10 | elapsed:    0.0s remaining:    0.0s\n",
      "[Parallel(n_jobs=1)]: Done  11 out of  11 | elapsed:    0.0s remaining:    0.0s\n",
      "[Parallel(n_jobs=1)]: Done  12 out of  12 | elapsed:    0.0s remaining:    0.0s\n",
      "[Parallel(n_jobs=1)]: Done  13 out of  13 | elapsed:    0.0s remaining:    0.0s\n",
      "[Parallel(n_jobs=1)]: Done  14 out of  14 | elapsed:    0.0s remaining:    0.0s\n",
      "[Parallel(n_jobs=1)]: Done  15 out of  15 | elapsed:    0.0s remaining:    0.0s\n",
      "[Parallel(n_jobs=1)]: Done  16 out of  16 | elapsed:    0.0s remaining:    0.0s\n",
      "[Parallel(n_jobs=1)]: Done  17 out of  17 | elapsed:    0.0s remaining:    0.0s\n",
      "[Parallel(n_jobs=1)]: Done  18 out of  18 | elapsed:    0.0s remaining:    0.0s\n",
      "[Parallel(n_jobs=1)]: Done  19 out of  19 | elapsed:    0.0s remaining:    0.0s\n",
      "[Parallel(n_jobs=1)]: Done  20 out of  20 | elapsed:    0.0s remaining:    0.0s\n",
      "[Parallel(n_jobs=1)]: Done  21 out of  21 | elapsed:    0.0s remaining:    0.0s\n",
      "[Parallel(n_jobs=1)]: Done  22 out of  22 | elapsed:    0.0s remaining:    0.0s\n",
      "[Parallel(n_jobs=1)]: Done  23 out of  23 | elapsed:    0.0s remaining:    0.0s\n",
      "[Parallel(n_jobs=1)]: Done  24 out of  24 | elapsed:    0.0s remaining:    0.0s\n",
      "[Parallel(n_jobs=1)]: Done  25 out of  25 | elapsed:    0.0s remaining:    0.0s\n",
      "[Parallel(n_jobs=1)]: Done  26 out of  26 | elapsed:    0.0s remaining:    0.0s\n",
      "[Parallel(n_jobs=1)]: Done  27 out of  27 | elapsed:    0.0s remaining:    0.0s\n",
      "[Parallel(n_jobs=1)]: Done  28 out of  28 | elapsed:    0.0s remaining:    0.0s\n",
      "[Parallel(n_jobs=1)]: Done  29 out of  29 | elapsed:    0.0s remaining:    0.0s\n",
      "[Parallel(n_jobs=1)]: Done  30 out of  30 | elapsed:    0.0s remaining:    0.0s\n",
      "[Parallel(n_jobs=1)]: Done  31 out of  31 | elapsed:    0.0s remaining:    0.0s\n",
      "[Parallel(n_jobs=1)]: Done  32 out of  32 | elapsed:    0.0s remaining:    0.0s\n",
      "[Parallel(n_jobs=1)]: Done  33 out of  33 | elapsed:    0.0s remaining:    0.0s\n",
      "[Parallel(n_jobs=1)]: Done  34 out of  34 | elapsed:    0.0s remaining:    0.0s\n",
      "[Parallel(n_jobs=1)]: Done  35 out of  35 | elapsed:    0.0s remaining:    0.0s\n",
      "[Parallel(n_jobs=1)]: Done  36 out of  36 | elapsed:    0.0s remaining:    0.0s\n",
      "[Parallel(n_jobs=1)]: Done  37 out of  37 | elapsed:    0.0s remaining:    0.0s\n",
      "[Parallel(n_jobs=1)]: Done  38 out of  38 | elapsed:    0.0s remaining:    0.0s\n",
      "[Parallel(n_jobs=1)]: Done  39 out of  39 | elapsed:    0.0s remaining:    0.0s\n",
      "[Parallel(n_jobs=1)]: Done  40 out of  40 | elapsed:    0.0s remaining:    0.0s\n",
      "[Parallel(n_jobs=1)]: Done  41 out of  41 | elapsed:    0.0s remaining:    0.0s\n",
      "[Parallel(n_jobs=1)]: Done  42 out of  42 | elapsed:    0.0s remaining:    0.0s\n",
      "[Parallel(n_jobs=1)]: Done  43 out of  43 | elapsed:    0.0s remaining:    0.0s\n",
      "[Parallel(n_jobs=1)]: Done  44 out of  44 | elapsed:    0.0s remaining:    0.0s\n",
      "[Parallel(n_jobs=1)]: Done  45 out of  45 | elapsed:    0.0s remaining:    0.0s\n",
      "[Parallel(n_jobs=1)]: Done  46 out of  46 | elapsed:    0.0s remaining:    0.0s\n",
      "[Parallel(n_jobs=1)]: Done  47 out of  47 | elapsed:    0.0s remaining:    0.0s\n",
      "[Parallel(n_jobs=1)]: Done  48 out of  48 | elapsed:    0.0s remaining:    0.0s\n",
      "[Parallel(n_jobs=1)]: Done  49 out of  49 | elapsed:    0.0s remaining:    0.0s\n",
      "[Parallel(n_jobs=1)]: Done  50 out of  50 | elapsed:    0.0s remaining:    0.0s\n",
      "[Parallel(n_jobs=1)]: Done  51 out of  51 | elapsed:    0.0s remaining:    0.0s\n",
      "[Parallel(n_jobs=1)]: Done  52 out of  52 | elapsed:    0.0s remaining:    0.0s\n",
      "[Parallel(n_jobs=1)]: Done  53 out of  53 | elapsed:    0.0s remaining:    0.0s\n",
      "[Parallel(n_jobs=1)]: Done  54 out of  54 | elapsed:    0.0s remaining:    0.0s\n",
      "[Parallel(n_jobs=1)]: Done  55 out of  55 | elapsed:    0.0s remaining:    0.0s\n",
      "[Parallel(n_jobs=1)]: Done  56 out of  56 | elapsed:    0.0s remaining:    0.0s\n",
      "[Parallel(n_jobs=1)]: Done  57 out of  57 | elapsed:    0.0s remaining:    0.0s\n",
      "[Parallel(n_jobs=1)]: Done  58 out of  58 | elapsed:    0.0s remaining:    0.0s\n",
      "[Parallel(n_jobs=1)]: Done  59 out of  59 | elapsed:    0.0s remaining:    0.0s\n",
      "[Parallel(n_jobs=1)]: Done  60 out of  60 | elapsed:    0.0s remaining:    0.0s\n",
      "[Parallel(n_jobs=1)]: Done  61 out of  61 | elapsed:    0.0s remaining:    0.0s\n",
      "[Parallel(n_jobs=1)]: Done  62 out of  62 | elapsed:    0.0s remaining:    0.0s\n",
      "[Parallel(n_jobs=1)]: Done  63 out of  63 | elapsed:    0.0s remaining:    0.0s\n",
      "[Parallel(n_jobs=1)]: Done  64 out of  64 | elapsed:    0.0s remaining:    0.0s\n",
      "[Parallel(n_jobs=1)]: Done  65 out of  65 | elapsed:    0.0s remaining:    0.0s\n",
      "[Parallel(n_jobs=1)]: Done  66 out of  66 | elapsed:    0.0s remaining:    0.0s\n",
      "[Parallel(n_jobs=1)]: Done  67 out of  67 | elapsed:    0.0s remaining:    0.0s\n",
      "[Parallel(n_jobs=1)]: Done  68 out of  68 | elapsed:    0.0s remaining:    0.0s\n",
      "[Parallel(n_jobs=1)]: Done  69 out of  69 | elapsed:    0.0s remaining:    0.0s\n",
      "[Parallel(n_jobs=1)]: Done  70 out of  70 | elapsed:    0.0s remaining:    0.0s\n",
      "[Parallel(n_jobs=1)]: Done  71 out of  71 | elapsed:    0.0s remaining:    0.0s\n",
      "[Parallel(n_jobs=1)]: Done  72 out of  72 | elapsed:    0.0s remaining:    0.0s\n",
      "[Parallel(n_jobs=1)]: Done  73 out of  73 | elapsed:    0.0s remaining:    0.0s\n",
      "[Parallel(n_jobs=1)]: Done  74 out of  74 | elapsed:    0.0s remaining:    0.0s\n",
      "[Parallel(n_jobs=1)]: Done  75 out of  75 | elapsed:    0.0s remaining:    0.0s\n",
      "[Parallel(n_jobs=1)]: Done  76 out of  76 | elapsed:    0.0s remaining:    0.0s\n",
      "[Parallel(n_jobs=1)]: Done  77 out of  77 | elapsed:    0.0s remaining:    0.0s\n",
      "[Parallel(n_jobs=1)]: Done  78 out of  78 | elapsed:    0.0s remaining:    0.0s\n",
      "[Parallel(n_jobs=1)]: Done  79 out of  79 | elapsed:    0.0s remaining:    0.0s\n",
      "[Parallel(n_jobs=1)]: Done  80 out of  80 | elapsed:    0.0s remaining:    0.0s\n",
      "[Parallel(n_jobs=1)]: Done  81 out of  81 | elapsed:    0.0s remaining:    0.0s\n",
      "[Parallel(n_jobs=1)]: Done  82 out of  82 | elapsed:    0.0s remaining:    0.0s\n",
      "[Parallel(n_jobs=1)]: Done  83 out of  83 | elapsed:    0.0s remaining:    0.0s\n",
      "[Parallel(n_jobs=1)]: Done  84 out of  84 | elapsed:    0.0s remaining:    0.0s\n",
      "[Parallel(n_jobs=1)]: Done  85 out of  85 | elapsed:    0.0s remaining:    0.0s\n",
      "[Parallel(n_jobs=1)]: Done  86 out of  86 | elapsed:    0.0s remaining:    0.0s\n",
      "[Parallel(n_jobs=1)]: Done  87 out of  87 | elapsed:    0.0s remaining:    0.0s\n",
      "[Parallel(n_jobs=1)]: Done  88 out of  88 | elapsed:    0.0s remaining:    0.0s\n",
      "[Parallel(n_jobs=1)]: Done  89 out of  89 | elapsed:    0.0s remaining:    0.0s\n",
      "[Parallel(n_jobs=1)]: Done  90 out of  90 | elapsed:    0.0s remaining:    0.0s\n",
      "[Parallel(n_jobs=1)]: Done  91 out of  91 | elapsed:    0.0s remaining:    0.0s\n",
      "[Parallel(n_jobs=1)]: Done  92 out of  92 | elapsed:    0.0s remaining:    0.0s\n",
      "[Parallel(n_jobs=1)]: Done  93 out of  93 | elapsed:    0.0s remaining:    0.0s\n",
      "[Parallel(n_jobs=1)]: Done  94 out of  94 | elapsed:    0.0s remaining:    0.0s\n",
      "[Parallel(n_jobs=1)]: Done  95 out of  95 | elapsed:    0.0s remaining:    0.0s\n",
      "[Parallel(n_jobs=1)]: Done  96 out of  96 | elapsed:    0.0s remaining:    0.0s\n",
      "[Parallel(n_jobs=1)]: Done  97 out of  97 | elapsed:    0.0s remaining:    0.0s\n",
      "[Parallel(n_jobs=1)]: Done  98 out of  98 | elapsed:    0.0s remaining:    0.0s\n",
      "[Parallel(n_jobs=1)]: Done  99 out of  99 | elapsed:    0.0s remaining:    0.0s\n",
      "[Parallel(n_jobs=1)]: Done 1000 out of 1000 | elapsed:    0.3s finished\n"
     ]
    }
   ],
   "source": [
    "# 테스트 세트로 예측\n",
    "y_pred = rf_clf.predict(X_test)"
   ]
  },
  {
   "cell_type": "code",
   "execution_count": 6,
   "metadata": {},
   "outputs": [
    {
     "name": "stdout",
     "output_type": "stream",
     "text": [
      "              precision    recall  f1-score   support\n",
      "\n",
      "         0.0       0.97      1.00      0.98    116380\n",
      "         1.0       0.73      0.04      0.08      3769\n",
      "\n",
      "    accuracy                           0.97    120149\n",
      "   macro avg       0.85      0.52      0.53    120149\n",
      "weighted avg       0.96      0.97      0.96    120149\n",
      "\n"
     ]
    }
   ],
   "source": [
    "from sklearn.metrics import classification_report\n",
    "\n",
    "# 정확도 평가\n",
    "metric = classification_report(y_test, y_pred)\n",
    "print(metric) "
   ]
  },
  {
   "cell_type": "code",
   "execution_count": 10,
   "metadata": {},
   "outputs": [
    {
     "name": "stdout",
     "output_type": "stream",
     "text": [
      "              precision    recall  f1-score   support\n",
      "\n",
      "         0.0       0.97      1.00      0.98    116380\n",
      "         1.0       0.62      0.02      0.03      3769\n",
      "\n",
      "    accuracy                           0.97    120149\n",
      "   macro avg       0.80      0.51      0.51    120149\n",
      "weighted avg       0.96      0.97      0.95    120149\n",
      "\n"
     ]
    }
   ],
   "source": [
    "from sklearn.metrics import classification_report\n",
    "\n",
    "# 정확도 평가\n",
    "metric = classification_report(y_test, y_pred)\n",
    "print(metric) "
   ]
  },
  {
   "cell_type": "code",
   "execution_count": 14,
   "metadata": {},
   "outputs": [
    {
     "name": "stdout",
     "output_type": "stream",
     "text": [
      "              precision    recall  f1-score   support\n",
      "\n",
      "         0.0       0.97      1.00      0.98    116380\n",
      "         1.0       0.47      0.02      0.03      3769\n",
      "\n",
      "    accuracy                           0.97    120149\n",
      "   macro avg       0.72      0.51      0.51    120149\n",
      "weighted avg       0.95      0.97      0.95    120149\n",
      "\n"
     ]
    }
   ],
   "source": [
    "# smote 안함 leaf 4\n",
    "from sklearn.metrics import classification_report\n",
    "\n",
    "# 정확도 평가\n",
    "metric = classification_report(y_test, y_pred)\n",
    "print(metric) "
   ]
  },
  {
   "cell_type": "code",
   "execution_count": 18,
   "metadata": {},
   "outputs": [
    {
     "name": "stdout",
     "output_type": "stream",
     "text": [
      "              precision    recall  f1-score   support\n",
      "\n",
      "         0.0       0.97      1.00      0.98    116380\n",
      "         1.0       0.82      0.03      0.06      3769\n",
      "\n",
      "    accuracy                           0.97    120149\n",
      "   macro avg       0.90      0.52      0.52    120149\n",
      "weighted avg       0.96      0.97      0.96    120149\n",
      "\n"
     ]
    }
   ],
   "source": [
    "# smote 안함 leaf 16\n",
    "from sklearn.metrics import classification_report\n",
    "\n",
    "# 정확도 평가\n",
    "metric = classification_report(y_test, y_pred)\n",
    "print(metric) "
   ]
  },
  {
   "cell_type": "code",
   "execution_count": 23,
   "metadata": {},
   "outputs": [
    {
     "name": "stdout",
     "output_type": "stream",
     "text": [
      "              precision    recall  f1-score   support\n",
      "\n",
      "         0.0       0.97      0.99      0.98    116380\n",
      "         1.0       0.33      0.10      0.15      3769\n",
      "\n",
      "    accuracy                           0.97    120149\n",
      "   macro avg       0.65      0.55      0.57    120149\n",
      "weighted avg       0.95      0.97      0.96    120149\n",
      "\n"
     ]
    }
   ],
   "source": [
    "# smote 함 leaf 16\n",
    "from sklearn.metrics import classification_report\n",
    "\n",
    "# 정확도 평가\n",
    "metric = classification_report(y_test, y_pred)\n",
    "print(metric) "
   ]
  },
  {
   "cell_type": "code",
   "execution_count": 27,
   "metadata": {},
   "outputs": [
    {
     "name": "stdout",
     "output_type": "stream",
     "text": [
      "              precision    recall  f1-score   support\n",
      "\n",
      "         0.0       0.97      1.00      0.98    116380\n",
      "         1.0       0.54      0.05      0.09      3769\n",
      "\n",
      "    accuracy                           0.97    120149\n",
      "   macro avg       0.75      0.53      0.54    120149\n",
      "weighted avg       0.96      0.97      0.96    120149\n",
      "\n"
     ]
    }
   ],
   "source": [
    "# smote 함 leaf 1\n",
    "from sklearn.metrics import classification_report\n",
    "\n",
    "# 정확도 평가\n",
    "metric = classification_report(y_test, y_pred)\n",
    "print(metric) "
   ]
  },
  {
   "cell_type": "code",
   "execution_count": 31,
   "metadata": {},
   "outputs": [
    {
     "name": "stdout",
     "output_type": "stream",
     "text": [
      "              precision    recall  f1-score   support\n",
      "\n",
      "         0.0       0.97      1.00      0.98    116380\n",
      "         1.0       0.32      0.04      0.07      3769\n",
      "\n",
      "    accuracy                           0.97    120149\n",
      "   macro avg       0.64      0.52      0.52    120149\n",
      "weighted avg       0.95      0.97      0.95    120149\n",
      "\n"
     ]
    }
   ],
   "source": [
    "# smote 함 leaf 2\n",
    "from sklearn.metrics import classification_report\n",
    "\n",
    "# 정확도 평가\n",
    "metric = classification_report(y_test, y_pred)\n",
    "print(metric) "
   ]
  },
  {
   "cell_type": "code",
   "execution_count": 35,
   "metadata": {},
   "outputs": [
    {
     "name": "stdout",
     "output_type": "stream",
     "text": [
      "              precision    recall  f1-score   support\n",
      "\n",
      "         0.0       0.97      0.99      0.98    116380\n",
      "         1.0       0.25      0.09      0.13      3769\n",
      "\n",
      "    accuracy                           0.96    120149\n",
      "   macro avg       0.61      0.54      0.56    120149\n",
      "weighted avg       0.95      0.96      0.95    120149\n",
      "\n"
     ]
    }
   ],
   "source": [
    "# smote 함 leaf 64\n",
    "from sklearn.metrics import classification_report\n",
    "\n",
    "# 정확도 평가\n",
    "metric = classification_report(y_test, y_pred)\n",
    "print(metric) "
   ]
  },
  {
   "cell_type": "code",
   "execution_count": 39,
   "metadata": {},
   "outputs": [
    {
     "name": "stdout",
     "output_type": "stream",
     "text": [
      "              precision    recall  f1-score   support\n",
      "\n",
      "         0.0       0.98      0.98      0.98    116380\n",
      "         1.0       0.26      0.23      0.24      3769\n",
      "\n",
      "    accuracy                           0.96    120149\n",
      "   macro avg       0.62      0.60      0.61    120149\n",
      "weighted avg       0.95      0.96      0.95    120149\n",
      "\n"
     ]
    }
   ],
   "source": [
    "# smote 함 leaf 128\n",
    "from sklearn.metrics import classification_report\n",
    "\n",
    "# 정확도 평가\n",
    "metric = classification_report(y_test, y_pred)\n",
    "print(metric) "
   ]
  },
  {
   "cell_type": "code",
   "execution_count": 43,
   "metadata": {},
   "outputs": [
    {
     "name": "stdout",
     "output_type": "stream",
     "text": [
      "              precision    recall  f1-score   support\n",
      "\n",
      "         0.0       0.97      0.98      0.98    116380\n",
      "         1.0       0.29      0.19      0.23      3769\n",
      "\n",
      "    accuracy                           0.96    120149\n",
      "   macro avg       0.63      0.59      0.61    120149\n",
      "weighted avg       0.95      0.96      0.96    120149\n",
      "\n"
     ]
    }
   ],
   "source": [
    "# smote 함 트리 개수 20, leaf 128\n",
    "from sklearn.metrics import classification_report\n",
    "\n",
    "# 정확도 평가\n",
    "metric = classification_report(y_test, y_pred)\n",
    "print(metric) "
   ]
  },
  {
   "cell_type": "code",
   "execution_count": 47,
   "metadata": {},
   "outputs": [
    {
     "name": "stdout",
     "output_type": "stream",
     "text": [
      "              precision    recall  f1-score   support\n",
      "\n",
      "         0.0       0.97      0.99      0.98    116380\n",
      "         1.0       0.31      0.17      0.22      3769\n",
      "\n",
      "    accuracy                           0.96    120149\n",
      "   macro avg       0.64      0.58      0.60    120149\n",
      "weighted avg       0.95      0.96      0.96    120149\n",
      "\n"
     ]
    }
   ],
   "source": [
    "# smote 함 트리 개수 50, leaf 128\n",
    "from sklearn.metrics import classification_report\n",
    "\n",
    "# 정확도 평가\n",
    "metric = classification_report(y_test, y_pred)\n",
    "print(metric) "
   ]
  },
  {
   "cell_type": "code",
   "execution_count": 51,
   "metadata": {},
   "outputs": [
    {
     "name": "stdout",
     "output_type": "stream",
     "text": [
      "              precision    recall  f1-score   support\n",
      "\n",
      "         0.0       0.97      0.99      0.98    116380\n",
      "         1.0       0.42      0.11      0.18      3769\n",
      "\n",
      "    accuracy                           0.97    120149\n",
      "   macro avg       0.70      0.55      0.58    120149\n",
      "weighted avg       0.95      0.97      0.96    120149\n",
      "\n"
     ]
    }
   ],
   "source": [
    "# smote 함 트리 개수 50, leaf 32\n",
    "from sklearn.metrics import classification_report\n",
    "\n",
    "# 정확도 평가\n",
    "metric = classification_report(y_test, y_pred)\n",
    "print(metric) "
   ]
  },
  {
   "cell_type": "code",
   "execution_count": 55,
   "metadata": {},
   "outputs": [
    {
     "name": "stdout",
     "output_type": "stream",
     "text": [
      "              precision    recall  f1-score   support\n",
      "\n",
      "         0.0       0.97      1.00      0.98    116380\n",
      "         1.0       0.46      0.03      0.06      3769\n",
      "\n",
      "    accuracy                           0.97    120149\n",
      "   macro avg       0.71      0.52      0.52    120149\n",
      "weighted avg       0.95      0.97      0.96    120149\n",
      "\n"
     ]
    }
   ],
   "source": [
    "# smote 함 트리 개수 50, leaf 2\n",
    "from sklearn.metrics import classification_report\n",
    "\n",
    "# 정확도 평가\n",
    "metric = classification_report(y_test, y_pred)\n",
    "print(metric) "
   ]
  },
  {
   "cell_type": "code",
   "execution_count": 59,
   "metadata": {},
   "outputs": [
    {
     "name": "stdout",
     "output_type": "stream",
     "text": [
      "              precision    recall  f1-score   support\n",
      "\n",
      "         0.0       0.97      1.00      0.98    116380\n",
      "         1.0       0.53      0.03      0.06      3769\n",
      "\n",
      "    accuracy                           0.97    120149\n",
      "   macro avg       0.75      0.52      0.52    120149\n",
      "weighted avg       0.96      0.97      0.96    120149\n",
      "\n"
     ]
    }
   ],
   "source": [
    "# smote 함 트리 개수 100, leaf 2\n",
    "from sklearn.metrics import classification_report\n",
    "\n",
    "# 정확도 평가\n",
    "metric = classification_report(y_test, y_pred)\n",
    "print(metric) "
   ]
  },
  {
   "cell_type": "code",
   "execution_count": 63,
   "metadata": {},
   "outputs": [
    {
     "name": "stdout",
     "output_type": "stream",
     "text": [
      "              precision    recall  f1-score   support\n",
      "\n",
      "         0.0       0.97      1.00      0.98    116380\n",
      "         1.0       0.49      0.07      0.11      3769\n",
      "\n",
      "    accuracy                           0.97    120149\n",
      "   macro avg       0.73      0.53      0.55    120149\n",
      "weighted avg       0.96      0.97      0.96    120149\n",
      "\n"
     ]
    }
   ],
   "source": [
    "# smote 함 트리 개수 100, leaf 16\n",
    "from sklearn.metrics import classification_report\n",
    "\n",
    "# 정확도 평가\n",
    "metric = classification_report(y_test, y_pred)\n",
    "print(metric) "
   ]
  },
  {
   "cell_type": "code",
   "execution_count": 67,
   "metadata": {},
   "outputs": [
    {
     "name": "stdout",
     "output_type": "stream",
     "text": [
      "              precision    recall  f1-score   support\n",
      "\n",
      "         0.0       0.97      1.00      0.98    116380\n",
      "         1.0       0.51      0.03      0.05      3769\n",
      "\n",
      "    accuracy                           0.97    120149\n",
      "   macro avg       0.74      0.51      0.52    120149\n",
      "weighted avg       0.96      0.97      0.95    120149\n",
      "\n"
     ]
    }
   ],
   "source": [
    "# smote 함 트리 개수 200, leaf 2\n",
    "from sklearn.metrics import classification_report\n",
    "\n",
    "# 정확도 평가\n",
    "metric = classification_report(y_test, y_pred)\n",
    "print(metric) "
   ]
  },
  {
   "cell_type": "code",
   "execution_count": 71,
   "metadata": {},
   "outputs": [
    {
     "name": "stdout",
     "output_type": "stream",
     "text": [
      "              precision    recall  f1-score   support\n",
      "\n",
      "         0.0       0.97      1.00      0.98    116380\n",
      "         1.0       0.51      0.06      0.11      3769\n",
      "\n",
      "    accuracy                           0.97    120149\n",
      "   macro avg       0.74      0.53      0.55    120149\n",
      "weighted avg       0.96      0.97      0.96    120149\n",
      "\n"
     ]
    }
   ],
   "source": [
    "# smote 함 트리 개수 200, leaf 16\n",
    "from sklearn.metrics import classification_report\n",
    "\n",
    "# 정확도 평가\n",
    "metric = classification_report(y_test, y_pred)\n",
    "print(metric) "
   ]
  },
  {
   "cell_type": "code",
   "execution_count": 75,
   "metadata": {},
   "outputs": [
    {
     "name": "stdout",
     "output_type": "stream",
     "text": [
      "              precision    recall  f1-score   support\n",
      "\n",
      "         0.0       0.97      1.00      0.98    116380\n",
      "         1.0       0.42      0.06      0.10      3769\n",
      "\n",
      "    accuracy                           0.97    120149\n",
      "   macro avg       0.69      0.53      0.54    120149\n",
      "weighted avg       0.95      0.97      0.96    120149\n",
      "\n"
     ]
    }
   ],
   "source": [
    "# smote 함 트리 개수 30, leaf 4\n",
    "from sklearn.metrics import classification_report\n",
    "\n",
    "# 정확도 평가\n",
    "metric = classification_report(y_test, y_pred)\n",
    "print(metric) "
   ]
  },
  {
   "cell_type": "code",
   "execution_count": 79,
   "metadata": {},
   "outputs": [
    {
     "name": "stdout",
     "output_type": "stream",
     "text": [
      "              precision    recall  f1-score   support\n",
      "\n",
      "         0.0       0.97      0.99      0.98    116380\n",
      "         1.0       0.36      0.10      0.16      3769\n",
      "\n",
      "    accuracy                           0.97    120149\n",
      "   macro avg       0.66      0.55      0.57    120149\n",
      "weighted avg       0.95      0.97      0.96    120149\n",
      "\n"
     ]
    }
   ],
   "source": [
    "# smote 함 트리 개수 30, leaf 64\n",
    "from sklearn.metrics import classification_report\n",
    "\n",
    "# 정확도 평가\n",
    "metric = classification_report(y_test, y_pred)\n",
    "print(metric) "
   ]
  },
  {
   "cell_type": "code",
   "execution_count": 83,
   "metadata": {},
   "outputs": [
    {
     "name": "stdout",
     "output_type": "stream",
     "text": [
      "              precision    recall  f1-score   support\n",
      "\n",
      "         0.0       0.97      0.97      0.97    116380\n",
      "         1.0       0.22      0.23      0.23      3769\n",
      "\n",
      "    accuracy                           0.95    120149\n",
      "   macro avg       0.60      0.60      0.60    120149\n",
      "weighted avg       0.95      0.95      0.95    120149\n",
      "\n"
     ]
    }
   ],
   "source": [
    "# smote 함 트리 개수 30, leaf 256\n",
    "from sklearn.metrics import classification_report\n",
    "\n",
    "# 정확도 평가\n",
    "metric = classification_report(y_test, y_pred)\n",
    "print(metric) "
   ]
  },
  {
   "cell_type": "code",
   "execution_count": 87,
   "metadata": {},
   "outputs": [
    {
     "name": "stdout",
     "output_type": "stream",
     "text": [
      "              precision    recall  f1-score   support\n",
      "\n",
      "         0.0       0.97      1.00      0.98    116380\n",
      "         1.0       0.51      0.02      0.05      3769\n",
      "\n",
      "    accuracy                           0.97    120149\n",
      "   macro avg       0.74      0.51      0.52    120149\n",
      "weighted avg       0.96      0.97      0.95    120149\n",
      "\n"
     ]
    }
   ],
   "source": [
    "# smote 함 트리 개수 300, leaf 2\n",
    "from sklearn.metrics import classification_report\n",
    "\n",
    "# 정확도 평가\n",
    "metric = classification_report(y_test, y_pred)\n",
    "print(metric) "
   ]
  },
  {
   "cell_type": "code",
   "execution_count": 91,
   "metadata": {},
   "outputs": [
    {
     "name": "stdout",
     "output_type": "stream",
     "text": [
      "              precision    recall  f1-score   support\n",
      "\n",
      "         0.0       0.97      1.00      0.98    116380\n",
      "         1.0       0.50      0.11      0.18      3769\n",
      "\n",
      "    accuracy                           0.97    120149\n",
      "   macro avg       0.74      0.55      0.58    120149\n",
      "weighted avg       0.96      0.97      0.96    120149\n",
      "\n"
     ]
    }
   ],
   "source": [
    "# smote 함 트리 개수 100, leaf 32\n",
    "from sklearn.metrics import classification_report\n",
    "\n",
    "# 정확도 평가\n",
    "metric = classification_report(y_test, y_pred)\n",
    "print(metric) "
   ]
  },
  {
   "cell_type": "code",
   "execution_count": 95,
   "metadata": {},
   "outputs": [],
   "source": []
  },
  {
   "cell_type": "code",
   "execution_count": 96,
   "metadata": {},
   "outputs": [
    {
     "name": "stdout",
     "output_type": "stream",
     "text": [
      "              precision    recall  f1-score   support\n",
      "\n",
      "         0.0       0.97      1.00      0.98    116380\n",
      "         1.0       0.53      0.03      0.06      3769\n",
      "\n",
      "    accuracy                           0.97    120149\n",
      "   macro avg       0.75      0.52      0.52    120149\n",
      "weighted avg       0.96      0.97      0.96    120149\n",
      "\n"
     ]
    }
   ],
   "source": [
    "# n_estimators=100, max_depth=50, min_samples_leaf=2\n",
    "from sklearn.metrics import classification_report\n",
    "\n",
    "# 정확도 평가\n",
    "metric = classification_report(y_test, y_pred)\n",
    "print(metric)"
   ]
  },
  {
   "cell_type": "code",
   "execution_count": 100,
   "metadata": {},
   "outputs": [
    {
     "name": "stdout",
     "output_type": "stream",
     "text": [
      "              precision    recall  f1-score   support\n",
      "\n",
      "         0.0       0.97      1.00      0.98    116380\n",
      "         1.0       0.50      0.11      0.18      3769\n",
      "\n",
      "    accuracy                           0.97    120149\n",
      "   macro avg       0.74      0.55      0.58    120149\n",
      "weighted avg       0.96      0.97      0.96    120149\n",
      "\n"
     ]
    }
   ],
   "source": [
    "# n_estimators=100, max_depth=50, min_samples_leaf=32\n",
    "from sklearn.metrics import classification_report\n",
    "\n",
    "# 정확도 평가\n",
    "metric = classification_report(y_test, y_pred)\n",
    "print(metric)"
   ]
  },
  {
   "cell_type": "code",
   "execution_count": 105,
   "metadata": {},
   "outputs": [
    {
     "name": "stdout",
     "output_type": "stream",
     "text": [
      "              precision    recall  f1-score   support\n",
      "\n",
      "         0.0       0.97      1.00      0.98    116380\n",
      "         1.0       0.50      0.11      0.18      3769\n",
      "\n",
      "    accuracy                           0.97    120149\n",
      "   macro avg       0.74      0.55      0.58    120149\n",
      "weighted avg       0.96      0.97      0.96    120149\n",
      "\n"
     ]
    }
   ],
   "source": [
    "# n_estimators=100, min_samples_split= 4, max_depth=50, min_samples_leaf=32\n",
    "from sklearn.metrics import classification_report\n",
    "\n",
    "# 정확도 평가\n",
    "metric = classification_report(y_test, y_pred)\n",
    "print(metric)"
   ]
  },
  {
   "cell_type": "code",
   "execution_count": 109,
   "metadata": {},
   "outputs": [
    {
     "name": "stdout",
     "output_type": "stream",
     "text": [
      "              precision    recall  f1-score   support\n",
      "\n",
      "         0.0       0.98      0.94      0.96    116380\n",
      "         1.0       0.16      0.37      0.23      3769\n",
      "\n",
      "    accuracy                           0.92    120149\n",
      "   macro avg       0.57      0.65      0.59    120149\n",
      "weighted avg       0.95      0.92      0.94    120149\n",
      "\n"
     ]
    }
   ],
   "source": [
    "# n_estimators=500, min_samples_leaf=1024\n",
    "from sklearn.metrics import classification_report\n",
    "\n",
    "# 정확도 평가\n",
    "metric = classification_report(y_test, y_pred)\n",
    "print(metric)"
   ]
  },
  {
   "cell_type": "code",
   "execution_count": 114,
   "metadata": {},
   "outputs": [
    {
     "name": "stdout",
     "output_type": "stream",
     "text": [
      "              precision    recall  f1-score   support\n",
      "\n",
      "         0.0       0.98      0.94      0.96    116380\n",
      "         1.0       0.17      0.38      0.23      3769\n",
      "\n",
      "    accuracy                           0.92    120149\n",
      "   macro avg       0.57      0.66      0.60    120149\n",
      "weighted avg       0.95      0.92      0.94    120149\n",
      "\n"
     ]
    }
   ],
   "source": [
    "# n_estimators=2000, min_samples_leaf=1024\n",
    "from sklearn.metrics import classification_report\n",
    "\n",
    "# 정확도 평가\n",
    "metric = classification_report(y_test, y_pred)\n",
    "print(metric)"
   ]
  },
  {
   "cell_type": "code",
   "execution_count": 118,
   "metadata": {},
   "outputs": [
    {
     "name": "stdout",
     "output_type": "stream",
     "text": [
      "              precision    recall  f1-score   support\n",
      "\n",
      "         0.0       0.98      0.89      0.93    116380\n",
      "         1.0       0.14      0.53      0.22      3769\n",
      "\n",
      "    accuracy                           0.88    120149\n",
      "   macro avg       0.56      0.71      0.58    120149\n",
      "weighted avg       0.96      0.88      0.91    120149\n",
      "\n"
     ]
    }
   ],
   "source": [
    "# n_estimators=1000, min_samples_leaf=4096\n",
    "from sklearn.metrics import classification_report\n",
    "\n",
    "# 정확도 평가\n",
    "metric = classification_report(y_test, y_pred)\n",
    "print(metric)"
   ]
  },
  {
   "cell_type": "code",
   "execution_count": 122,
   "metadata": {},
   "outputs": [
    {
     "name": "stdout",
     "output_type": "stream",
     "text": [
      "              precision    recall  f1-score   support\n",
      "\n",
      "         0.0       0.99      0.87      0.92    116380\n",
      "         1.0       0.13      0.61      0.21      3769\n",
      "\n",
      "    accuracy                           0.86    120149\n",
      "   macro avg       0.56      0.74      0.57    120149\n",
      "weighted avg       0.96      0.86      0.90    120149\n",
      "\n"
     ]
    }
   ],
   "source": [
    "# n_estimators=500, min_samples_leaf=8192\n",
    "from sklearn.metrics import classification_report\n",
    "\n",
    "# 정확도 평가\n",
    "metric = classification_report(y_test, y_pred)\n",
    "print(metric)"
   ]
  },
  {
   "cell_type": "code",
   "execution_count": 126,
   "metadata": {},
   "outputs": [
    {
     "name": "stdout",
     "output_type": "stream",
     "text": [
      "              precision    recall  f1-score   support\n",
      "\n",
      "         0.0       0.99      0.84      0.91    116380\n",
      "         1.0       0.12      0.63      0.19      3769\n",
      "\n",
      "    accuracy                           0.84    120149\n",
      "   macro avg       0.55      0.74      0.55    120149\n",
      "weighted avg       0.96      0.84      0.89    120149\n",
      "\n"
     ]
    }
   ],
   "source": [
    "# n_estimators=500, min_samples_leaf=16384\n",
    "from sklearn.metrics import classification_report\n",
    "\n",
    "# 정확도 평가\n",
    "metric = classification_report(y_test, y_pred)\n",
    "print(metric)"
   ]
  },
  {
   "cell_type": "code",
   "execution_count": 142,
   "metadata": {},
   "outputs": [
    {
     "name": "stdout",
     "output_type": "stream",
     "text": [
      "              precision    recall  f1-score   support\n",
      "\n",
      "         0.0       0.70      0.85      0.76      3769\n",
      "         1.0       0.80      0.63      0.71      3769\n",
      "\n",
      "    accuracy                           0.74      7538\n",
      "   macro avg       0.75      0.74      0.73      7538\n",
      "weighted avg       0.75      0.74      0.73      7538\n",
      "\n"
     ]
    }
   ],
   "source": [
    " # 20퍼 1대1 한값  n_estimators=500, min_samples_leaf=16384\n",
    "from sklearn.metrics import classification_report\n",
    "\n",
    "# 정확도 평가\n",
    "metric = classification_report(y_test, y_pred)\n",
    "print(metric)"
   ]
  },
  {
   "cell_type": "code",
   "execution_count": 146,
   "metadata": {},
   "outputs": [
    {
     "name": "stdout",
     "output_type": "stream",
     "text": [
      "              precision    recall  f1-score   support\n",
      "\n",
      "         0.0       0.60      0.94      0.73      3769\n",
      "         1.0       0.87      0.37      0.52      3769\n",
      "\n",
      "    accuracy                           0.66      7538\n",
      "   macro avg       0.73      0.66      0.63      7538\n",
      "weighted avg       0.73      0.66      0.63      7538\n",
      "\n"
     ]
    }
   ],
   "source": [
    " # 20퍼 1대1 한값  n_estimators=500, min_samples_leaf=1024\n",
    "from sklearn.metrics import classification_report\n",
    "\n",
    "# 정확도 평가\n",
    "metric = classification_report(y_test, y_pred)\n",
    "print(metric)"
   ]
  },
  {
   "cell_type": "code",
   "execution_count": 150,
   "metadata": {},
   "outputs": [
    {
     "name": "stdout",
     "output_type": "stream",
     "text": [
      "              precision    recall  f1-score   support\n",
      "\n",
      "         0.0       0.65      0.90      0.76      3769\n",
      "         1.0       0.83      0.52      0.64      3769\n",
      "\n",
      "    accuracy                           0.71      7538\n",
      "   macro avg       0.74      0.71      0.70      7538\n",
      "weighted avg       0.74      0.71      0.70      7538\n",
      "\n"
     ]
    }
   ],
   "source": [
    " # 20퍼 1대1 한값  n_estimators=500, min_samples_leaf=4096\n",
    "from sklearn.metrics import classification_report\n",
    "\n",
    "# 정확도 평가\n",
    "metric = classification_report(y_test, y_pred)\n",
    "print(metric)"
   ]
  },
  {
   "cell_type": "code",
   "execution_count": 154,
   "metadata": {},
   "outputs": [
    {
     "name": "stdout",
     "output_type": "stream",
     "text": [
      "              precision    recall  f1-score   support\n",
      "\n",
      "         0.0       0.70      0.87      0.77      3769\n",
      "         1.0       0.83      0.62      0.71      3769\n",
      "\n",
      "    accuracy                           0.75      7538\n",
      "   macro avg       0.76      0.75      0.74      7538\n",
      "weighted avg       0.76      0.75      0.74      7538\n",
      "\n"
     ]
    }
   ],
   "source": [
    " # 20퍼 1대1 한값  n_estimators=1000, min_samples_leaf=8192\n",
    "from sklearn.metrics import classification_report\n",
    "\n",
    "# 정확도 평가\n",
    "metric = classification_report(y_test, y_pred)\n",
    "print(metric)"
   ]
  }
 ],
 "metadata": {
  "kernelspec": {
   "display_name": "base",
   "language": "python",
   "name": "python3"
  },
  "language_info": {
   "codemirror_mode": {
    "name": "ipython",
    "version": 3
   },
   "file_extension": ".py",
   "mimetype": "text/x-python",
   "name": "python",
   "nbconvert_exporter": "python",
   "pygments_lexer": "ipython3",
   "version": "3.11.7"
  }
 },
 "nbformat": 4,
 "nbformat_minor": 2
}
